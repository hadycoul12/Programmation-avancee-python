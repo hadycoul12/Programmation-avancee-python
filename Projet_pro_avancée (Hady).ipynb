{
  "nbformat": 4,
  "nbformat_minor": 0,
  "metadata": {
    "colab": {
      "provenance": []
    },
    "kernelspec": {
      "name": "python3",
      "display_name": "Python 3"
    },
    "language_info": {
      "name": "python"
    }
  },
  "cells": [
    {
      "cell_type": "markdown",
      "source": [
        "# **Projet de Controle Continu : Analyse Météorol**"
      ],
      "metadata": {
        "id": "bJkySrvgnDnk"
      }
    },
    {
      "cell_type": "markdown",
      "source": [
        "# **1. Chargement des données**"
      ],
      "metadata": {
        "id": "7q6cgMQI1anH"
      }
    },
    {
      "cell_type": "code",
      "source": [
        "import pandas as pd\n",
        "from pydantic import BaseModel, ValidationError\n",
        "from typing import Optional\n",
        "\n",
        "class MeteoData(BaseModel):\n",
        "    # On suppose ici quelques colonnes typiques pour un dataset météorologique\n",
        "    temperature: Optional[float]\n",
        "    humidity: Optional[float]\n",
        "    wind_speed: Optional[float]\n",
        "    precipitation: Optional[float]\n",
        "\n",
        "def charger_fichier(nom_fichier: str) -> Optional[pd.DataFrame]:\n",
        "\n",
        "    try:\n",
        "        # Chargement du fichier CSV\n",
        "        df = pd.read_csv(nom_fichier)\n",
        "\n",
        "        # Pour afficher les premières lignes du DataFrame\n",
        "        print(\"Les 5 premières lignes du fichier :\")\n",
        "        print(df.head())\n",
        "\n",
        "        # Pour afficher un résumé statistique des colonnes numériques\n",
        "        print(\"\\nRésumé statistique des colonnes numériques :\")\n",
        "        print(df.describe())\n",
        "\n",
        "        return df\n",
        "\n",
        "    except FileNotFoundError:\n",
        "        print(f\"Erreur : le fichier '{nom_fichier}' n'existe pas.\")\n",
        "    except pd.errors.ParserError:\n",
        "        print(f\"Erreur : le fichier '{nom_fichier}' ne peut pas être lu. Vérifiez le format du fichier.\")\n",
        "    except Exception as e:\n",
        "        print(f\"Une erreur inattendue s'est produite : {e}\")\n",
        "\n",
        "    return None\n"
      ],
      "metadata": {
        "id": "z-UTPzFbla7s"
      },
      "execution_count": 1,
      "outputs": []
    },
    {
      "cell_type": "code",
      "source": [
        "# Appel de la fonction\n",
        "df = charger_fichier(\"meteo.csv\")\n"
      ],
      "metadata": {
        "colab": {
          "base_uri": "https://localhost:8080/"
        },
        "id": "rnYRMER2lyI5",
        "outputId": "9fbcef4f-a476-425a-addf-c93f3fa3f7b4"
      },
      "execution_count": 2,
      "outputs": [
        {
          "output_type": "stream",
          "name": "stdout",
          "text": [
            "Les 5 premières lignes du fichier :\n",
            "         date  max_temperature  min_temperature  precipitation  wind_speed\n",
            "0  2023-09-01             30.5             18.2            0.0        12.3\n",
            "1  2023-09-02             31.0             19.1            0.5        14.2\n",
            "2  2023-09-03             29.8             17.6            1.2        10.4\n",
            "3  2023-09-04             28.3             16.5            0.0         8.1\n",
            "4  2023-09-05             32.1             20.4            0.0        15.6\n",
            "\n",
            "Résumé statistique des colonnes numériques :\n",
            "       max_temperature  min_temperature  precipitation  wind_speed\n",
            "count        30.000000        30.000000      30.000000   30.000000\n",
            "mean         30.230000        18.943333       0.683333   12.450000\n",
            "std           3.176981         3.055541       1.234304    2.932076\n",
            "min          24.800000        14.700000       0.000000    6.900000\n",
            "25%          27.700000        16.500000       0.000000   10.450000\n",
            "50%          29.900000        18.300000       0.000000   12.350000\n",
            "75%          32.850000        21.425000       1.025000   14.450000\n",
            "max          36.200000        25.500000       4.100000   18.300000\n"
          ]
        }
      ]
    },
    {
      "cell_type": "markdown",
      "source": [
        "# **2. la classe `Meteo`**"
      ],
      "metadata": {
        "id": "IXAf7M8IB9HY"
      }
    },
    {
      "cell_type": "code",
      "source": [
        "from datetime import datetime\n",
        "\n",
        "class Meteo:\n",
        "    def __init__(self, date: str, temperature: float, pression: float, humidite: float):\n",
        "        self.date = date\n",
        "        self.temperature = temperature\n",
        "        self.pression = pression\n",
        "        self.humidite = humidite\n",
        "\n",
        "    @property\n",
        "    def date(self):\n",
        "        return self._date\n",
        "\n",
        "    @date.setter\n",
        "    def date(self, value):\n",
        "        # Validation de la date\n",
        "        try:\n",
        "            self._date = datetime.strptime(value, \"%Y-%m-%d\")\n",
        "        except ValueError:\n",
        "            raise ValueError(\"Date doit être au format 'YYYY-MM-DD'.\")\n",
        "\n",
        "    @property\n",
        "    def temperature(self):\n",
        "        return self._temperature\n",
        "\n",
        "    @temperature.setter\n",
        "    def temperature(self, value):\n",
        "        if not -50 <= value <= 60:\n",
        "            raise ValueError(\"La température doit être comprise entre -50 et 60 degrés Celsius.\")\n",
        "        self._temperature = value\n",
        "\n",
        "    @property\n",
        "    def pression(self):\n",
        "        return self._pression\n",
        "\n",
        "    @pression.setter\n",
        "    def pression(self, value):\n",
        "        if not 800 <= value <= 1100:\n",
        "            raise ValueError(\"La pression doit être comprise entre 800 et 1100 hPa.\")\n",
        "        self._pression = value\n",
        "\n",
        "    @property\n",
        "    def humidite(self):\n",
        "        return self._humidite\n",
        "\n",
        "    @humidite.setter\n",
        "    def humidite(self, value):\n",
        "        if not 0 <= value <= 100:\n",
        "            raise ValueError(\"L'humidité doit être comprise entre 0% et 100%.\")\n",
        "        self._humidite = value\n",
        "\n",
        "    @classmethod\n",
        "    # Ce code nous permet de crée un objet Meteo à partir d'une ligne de DataFrame.\n",
        "    def from_csv_row(cls, row):\n",
        "        return cls(date=row['date'],\n",
        "                   temperature=row['temperature'],\n",
        "                   pression=row['pression'],\n",
        "                   humidite=row['humidite'])\n",
        "\n",
        "# ce code nous permet de surcharge de l'opérateur < pour comparer deux objets Meteo par température.\n",
        "    def __lt__(self, other):\n",
        "\n",
        "        return self.temperature < other.temperature\n",
        "\n",
        "    def __gt__(self, other):\n",
        "        \"\"\"Surcharge de l'opérateur > pour comparer deux objets Meteo par température.\"\"\"\n",
        "        return self.temperature > other.temperature\n",
        "\n",
        "    def __repr__(self):\n",
        "        return (f\"Meteo(date={self.date.strftime('%Y-%m-%d')}, \"\n",
        "                f\"temperature={self.temperature}, \"\n",
        "                f\"pression={self.pression}, \"\n",
        "                f\"humidite={self.humidite})\")\n",
        "\n",
        "# Exemple de création d'objets Meteo\n",
        "meteo_1 = Meteo(date=\"2024-10-30\", temperature=20.5, pression=1013, humidite=60)\n",
        "meteo_2 = Meteo(date=\"2024-10-31\", temperature=25.0, pression=1010, humidite=55)\n",
        "\n",
        "# Comparaison des objets\n",
        "if meteo_1 > meteo_2:\n",
        "    print(\"La première journée est plus chaude que la deuxième.\")\n",
        "else:\n",
        "    print(\"La deuxième journée est plus chaude que la première.\")\n"
      ],
      "metadata": {
        "colab": {
          "base_uri": "https://localhost:8080/"
        },
        "id": "HeTtmTXHCApz",
        "outputId": "81b10f58-2901-4472-962c-ddc6da3be1c9"
      },
      "execution_count": 3,
      "outputs": [
        {
          "output_type": "stream",
          "name": "stdout",
          "text": [
            "La deuxième journée est plus chaude que la première.\n"
          ]
        }
      ]
    },
    {
      "cell_type": "markdown",
      "source": [
        "# **3. Validation des données**"
      ],
      "metadata": {
        "id": "cRwJ_kiECdEG"
      }
    },
    {
      "cell_type": "code",
      "source": [
        "from pydantic import BaseModel, Field, validator\n",
        "from datetime import datetime\n",
        "\n",
        "class MeteoValidator(BaseModel):\n",
        "    date: datetime\n",
        "    temperature: float = Field(..., ge=-50, le=60)\n",
        "    pression: float = Field(..., ge=800, le=1100)\n",
        "    humidite: float = Field(..., ge=0, le=100)\n",
        "\n",
        "# On va valider la date pour s'assurer qu'elle est au bon format\n",
        "    @validator('date', pre=True)\n",
        "    def parse_date(cls, value):\n",
        "# Il faut accepter des dates sous forme de chaîne de caractères 'YYYY-MM-DD'\n",
        "        if isinstance(value, str):\n",
        "            try:\n",
        "                return datetime.strptime(value, \"%Y-%m-%d\")\n",
        "            except ValueError:\n",
        "                raise ValueError(\"La date doit être au format 'YYYY-MM-DD'\")\n",
        "        elif isinstance(value, datetime):\n",
        "            return value\n",
        "        raise TypeError(\"La date doit être une chaîne de caractères ou un objet datetime\")\n",
        "# Ce code nous permet de valider que la température est dans les bornes [-50, 60]\"\"\"\n",
        "    @validator('temperature')\n",
        "    def validate_temperature(cls, value):\n",
        "        if not (-50 <= value <= 60):\n",
        "            raise ValueError(\"La température doit être comprise entre -50 et 60 degrés Celsius.\")\n",
        "        return value\n",
        "\n",
        "# Ici on valide que la température est dans les bornes [-50, 60]\n",
        "    @validator('pression')\n",
        "    def validate_pression(cls, value):\n",
        "        if not (800 <= value <= 1100):\n",
        "            raise ValueError(\"La pression doit être comprise entre 800 et 1100 hPa.\")\n",
        "        return value\n",
        "\n",
        "# Ici on valide que l'humidité est dans les bornes [0, 100]\n",
        "    @validator('humidite')\n",
        "    def validate_humidite(cls, value):\n",
        "        if not (0 <= value <= 100):\n",
        "            raise ValueError(\"L'humidité doit être comprise entre 0% et 100%.\")\n",
        "        return value\n",
        "\n",
        "# Voici un exemple d'utilisation pour verifier\n",
        "try:\n",
        "    meteo_validator = MeteoValidator(date=\"01-2023-01\", temperature=70, pression=1015, humidite=50)\n",
        "    print(meteo_validator)\n",
        "except ValueError as e:\n",
        "    print(\"Erreur de validation:\", e)\n"
      ],
      "metadata": {
        "colab": {
          "base_uri": "https://localhost:8080/"
        },
        "id": "Pz5vtNwkCgDD",
        "outputId": "07475747-dd0e-4818-d2ac-ed5e04665e9c"
      },
      "execution_count": 6,
      "outputs": [
        {
          "output_type": "stream",
          "name": "stdout",
          "text": [
            "Erreur de validation: 2 validation errors for MeteoValidator\n",
            "date\n",
            "  Value error, La date doit être au format 'YYYY-MM-DD' [type=value_error, input_value='01-2023-01', input_type=str]\n",
            "    For further information visit https://errors.pydantic.dev/2.9/v/value_error\n",
            "temperature\n",
            "  Input should be less than or equal to 60 [type=less_than_equal, input_value=70, input_type=int]\n",
            "    For further information visit https://errors.pydantic.dev/2.9/v/less_than_equal\n"
          ]
        },
        {
          "output_type": "stream",
          "name": "stderr",
          "text": [
            "<ipython-input-6-2996385674bc>:11: PydanticDeprecatedSince20: Pydantic V1 style `@validator` validators are deprecated. You should migrate to Pydantic V2 style `@field_validator` validators, see the migration guide for more details. Deprecated in Pydantic V2.0 to be removed in V3.0. See Pydantic V2 Migration Guide at https://errors.pydantic.dev/2.9/migration/\n",
            "  @validator('date', pre=True)\n",
            "<ipython-input-6-2996385674bc>:23: PydanticDeprecatedSince20: Pydantic V1 style `@validator` validators are deprecated. You should migrate to Pydantic V2 style `@field_validator` validators, see the migration guide for more details. Deprecated in Pydantic V2.0 to be removed in V3.0. See Pydantic V2 Migration Guide at https://errors.pydantic.dev/2.9/migration/\n",
            "  @validator('temperature')\n",
            "<ipython-input-6-2996385674bc>:30: PydanticDeprecatedSince20: Pydantic V1 style `@validator` validators are deprecated. You should migrate to Pydantic V2 style `@field_validator` validators, see the migration guide for more details. Deprecated in Pydantic V2.0 to be removed in V3.0. See Pydantic V2 Migration Guide at https://errors.pydantic.dev/2.9/migration/\n",
            "  @validator('pression')\n",
            "<ipython-input-6-2996385674bc>:37: PydanticDeprecatedSince20: Pydantic V1 style `@validator` validators are deprecated. You should migrate to Pydantic V2 style `@field_validator` validators, see the migration guide for more details. Deprecated in Pydantic V2.0 to be removed in V3.0. See Pydantic V2 Migration Guide at https://errors.pydantic.dev/2.9/migration/\n",
            "  @validator('humidite')\n"
          ]
        }
      ]
    },
    {
      "cell_type": "markdown",
      "source": [
        "# **4. Tests unitaires avec `unittest**`"
      ],
      "metadata": {
        "id": "BZAg4FfMPdtc"
      }
    },
    {
      "cell_type": "code",
      "source": [],
      "metadata": {
        "id": "_e8gQnaANaC9"
      },
      "execution_count": 4,
      "outputs": []
    },
    {
      "cell_type": "code",
      "source": [
        "import unittest\n",
        "from datetime import datetime\n",
        "import pandas as pd\n",
        "\n",
        "\n",
        "\n",
        "class TestMeteo(unittest.TestCase):\n",
        "# Je vais faire un Test que la température hors bornes lève une erreur.\n",
        "    def test_temperature_validation(self):\n",
        "        with self.assertRaises(ValueError):\n",
        "            Meteo(date=\"2023-01-01\", temperature=70, pression=1015, humidite=50)\n",
        "        with self.assertRaises(ValueError):\n",
        "            Meteo(date=\"2023-01-01\", temperature=-60, pression=1015, humidite=50)\n",
        "# Test que la pression hors bornes lève une erreur.\n",
        "    def test_pression_validation(self):\n",
        "        with self.assertRaises(ValueError):\n",
        "            Meteo(date=\"2023-01-01\", temperature=25, pression=750, humidite=50)\n",
        "        with self.assertRaises(ValueError):\n",
        "            Meteo(date=\"2023-01-01\", temperature=25, pression=1150, humidite=50)\n",
        "# Test que l'humidité hors bornes lève une erreur.\n",
        "    def test_humidite_validation(self):\n",
        "        with self.assertRaises(ValueError):\n",
        "            Meteo(date=\"2023-01-01\", temperature=25, pression=1015, humidite=120)\n",
        "        with self.assertRaises(ValueError):\n",
        "            Meteo(date=\"2023-01-01\", temperature=25, pression=1015, humidite=-10)\n",
        "\n",
        "# Test de la méthode from_csv_row pour créer un objet Meteo.\n",
        "    def test_creation_from_csv_row(self):\n",
        "        # Crée une ligne de DataFrame fictive\n",
        "        data = {'date': \"2023-01-01\", 'temperature': 20.0, 'pression': 1010, 'humidite': 45}\n",
        "        row = pd.Series(data)\n",
        "\n",
        "        # Création de l'objet Meteo\n",
        "        meteo_obj = Meteo.from_csv_row(row)\n",
        "\n",
        "        # Vérification des valeurs\n",
        "        self.assertEqual(meteo_obj.date, datetime.strptime(\"2023-01-01\", \"%Y-%m-%d\"))\n",
        "        self.assertEqual(meteo_obj.temperature, 20.0)\n",
        "        self.assertEqual(meteo_obj.pression, 1010)\n",
        "        self.assertEqual(meteo_obj.humidite, 45)\n",
        "\n",
        "# Test des opérateurs de comparaison pour les objets Meteo.\n",
        "    def test_comparison_operators(self):\n",
        "        meteo_1 = Meteo(date=\"2023-01-01\", temperature=20.0, pression=400, humidite=45)\n",
        "        meteo_2 = Meteo(date=\"2023-01-02\", temperature=25.0, pression=1015, humidite=50)\n",
        "\n",
        "        # Test de l'opérateur >\n",
        "        self.assertTrue(meteo_2 > meteo_1)\n",
        "        # Test de l'opérateur <\n",
        "        self.assertTrue(meteo_1 < meteo_2)\n",
        "        # Test de l'égalité des températures\n",
        "        meteo_3 = Meteo(date=\"2023-01-03\", temperature=20.0, pression=1020, humidite=55)\n",
        "        self.assertFalse(meteo_1 > meteo_3)\n",
        "        self.assertFalse(meteo_1 < meteo_3)\n",
        "\n",
        "if __name__ == \"__main__\":\n",
        "    unittest.main(argv=['first-arg-is-ignored'], exit=False)\n",
        "\n"
      ],
      "metadata": {
        "colab": {
          "base_uri": "https://localhost:8080/"
        },
        "id": "ctmueFEbNao1",
        "outputId": "a873c92c-3c20-469d-e087-cbcae23d75ab"
      },
      "execution_count": 9,
      "outputs": [
        {
          "output_type": "stream",
          "name": "stderr",
          "text": [
            "E....\n",
            "======================================================================\n",
            "ERROR: test_comparison_operators (__main__.TestMeteo)\n",
            "Test des opérateurs de comparaison pour les objets Meteo.\n",
            "----------------------------------------------------------------------\n",
            "Traceback (most recent call last):\n",
            "  File \"<ipython-input-9-98cfb28c2430>\", line 47, in test_comparison_operators\n",
            "    meteo_1 = Meteo(date=\"2023-01-01\", temperature=20.0, pression=400, humidite=45)\n",
            "  File \"<ipython-input-3-9d2e67e49217>\", line 7, in __init__\n",
            "    self.pression = pression\n",
            "  File \"<ipython-input-3-9d2e67e49217>\", line 39, in pression\n",
            "    raise ValueError(\"La pression doit être comprise entre 800 et 1100 hPa.\")\n",
            "ValueError: La pression doit être comprise entre 800 et 1100 hPa.\n",
            "\n",
            "----------------------------------------------------------------------\n",
            "Ran 5 tests in 0.014s\n",
            "\n",
            "FAILED (errors=1)\n"
          ]
        }
      ]
    }
  ]
}